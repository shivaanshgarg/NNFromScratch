{
  "nbformat": 4,
  "nbformat_minor": 0,
  "metadata": {
    "colab": {
      "provenance": []
    },
    "kernelspec": {
      "name": "python3",
      "display_name": "Python 3"
    },
    "language_info": {
      "name": "python"
    }
  },
  "cells": [
    {
      "cell_type": "code",
      "execution_count": null,
      "metadata": {
        "id": "SQ_M0NirzbV9"
      },
      "outputs": [],
      "source": [
        "import math\n",
        "import numpy as np\n",
        "import matplotlib.pyplot as plt\n",
        "%matplotlib inline"
      ]
    },
    {
      "cell_type": "code",
      "source": [
        "def f(x):\n",
        "  return 3*x**2-4*x+5"
      ],
      "metadata": {
        "id": "IhQrHZdc0q-d"
      },
      "execution_count": null,
      "outputs": []
    },
    {
      "cell_type": "code",
      "source": [
        "f(3.0)"
      ],
      "metadata": {
        "colab": {
          "base_uri": "https://localhost:8080/"
        },
        "id": "KJduIUjC1dbQ",
        "outputId": "2a5186f5-5454-4257-fba8-718aed9c9a91"
      },
      "execution_count": null,
      "outputs": [
        {
          "output_type": "execute_result",
          "data": {
            "text/plain": [
              "20.0"
            ]
          },
          "metadata": {},
          "execution_count": 114
        }
      ]
    },
    {
      "cell_type": "code",
      "source": [
        "xs= np.arange(-5,5,0.25)\n",
        "ys=f(xs)\n",
        "plt.plot(xs,ys)"
      ],
      "metadata": {
        "colab": {
          "base_uri": "https://localhost:8080/",
          "height": 448
        },
        "id": "s-AzdBc21eco",
        "outputId": "d73968ce-77fa-4ea6-abca-c8ce32901462"
      },
      "execution_count": null,
      "outputs": [
        {
          "output_type": "execute_result",
          "data": {
            "text/plain": [
              "[<matplotlib.lines.Line2D at 0x7d9f87bdfb50>]"
            ]
          },
          "metadata": {},
          "execution_count": 115
        },
        {
          "output_type": "display_data",
          "data": {
            "text/plain": [
              "<Figure size 640x480 with 1 Axes>"
            ],
            "image/png": "[encoded data removed]"
          },
          "metadata": {}
        }
      ]
    },
    {
      "cell_type": "code",
      "source": [
        "h=0.000000001\n",
        "x=2/3\n",
        "(f(x+h)-f(x))/h"
      ],
      "metadata": {
        "colab": {
          "base_uri": "https://localhost:8080/"
        },
        "id": "Sl304f1Q11jO",
        "outputId": "28456253-1fe1-4274-885b-1ca2bf4a1750"
      },
      "execution_count": null,
      "outputs": [
        {
          "output_type": "execute_result",
          "data": {
            "text/plain": [
              "0.0"
            ]
          },
          "metadata": {},
          "execution_count": 116
        }
      ]
    },
    {
      "cell_type": "code",
      "source": [
        "# Let's get more complex\n",
        "a=2.0\n",
        "b=-3.0\n",
        "c=10.0\n",
        "d=a*b+c\n",
        "print(d)"
      ],
      "metadata": {
        "colab": {
          "base_uri": "https://localhost:8080/"
        },
        "id": "pOHPMYoR2oqY",
        "outputId": "fb1f172b-0109-49ef-8b3d-f819dd945857"
      },
      "execution_count": null,
      "outputs": [
        {
          "output_type": "stream",
          "name": "stdout",
          "text": [
            "4.0\n"
          ]
        }
      ]
    },
    {
      "cell_type": "code",
      "source": [
        "h=0.0001\n",
        "\n",
        "#inputs\n",
        "a=2.0\n",
        "b=-3.0\n",
        "c=10.0\n",
        "\n",
        "d1=a*b+c\n",
        "a+=h\n",
        "d2=a*b+c\n",
        "\n",
        "print('d1',d1)\n",
        "print('d2',d2)\n",
        "print('slope',(d2-d1)/h)\n",
        "\n"
      ],
      "metadata": {
        "colab": {
          "base_uri": "https://localhost:8080/"
        },
        "id": "9LNGqsOH3g_l",
        "outputId": "58cb388b-97e3-452b-a9d5-c558e56fdec3"
      },
      "execution_count": null,
      "outputs": [
        {
          "output_type": "stream",
          "name": "stdout",
          "text": [
            "d1 4.0\n",
            "d2 3.999699999999999\n",
            "slope -3.000000000010772\n"
          ]
        }
      ]
    },
    {
      "cell_type": "code",
      "source": [
        "h=0.0001\n",
        "\n",
        "#inputs\n",
        "a=2.0\n",
        "b=-3.0\n",
        "c=10.0\n",
        "\n",
        "d1=a*b+c\n",
        "b+=h\n",
        "d2=a*b+c\n",
        "\n",
        "print('d1',d1)\n",
        "print('d2',d2)\n",
        "print('slope',(d2-d1)/h)\n",
        "\n"
      ],
      "metadata": {
        "colab": {
          "base_uri": "https://localhost:8080/"
        },
        "id": "JKvmpmcc4Dpl",
        "outputId": "db41d697-5554-4d51-f27f-b38e95f35ed5"
      },
      "execution_count": null,
      "outputs": [
        {
          "output_type": "stream",
          "name": "stdout",
          "text": [
            "d1 4.0\n",
            "d2 4.0002\n",
            "slope 2.0000000000042206\n"
          ]
        }
      ]
    },
    {
      "cell_type": "code",
      "source": [
        "h=0.0001\n",
        "\n",
        "#inputs\n",
        "a=2.0\n",
        "b=-3.0\n",
        "c=10.0\n",
        "\n",
        "d1=a*b+c\n",
        "c+=h\n",
        "d2=a*b+c\n",
        "\n",
        "print('d1',d1)\n",
        "print('d2',d2)\n",
        "print('slope',(d2-d1)/h)\n",
        "\n"
      ],
      "metadata": {
        "colab": {
          "base_uri": "https://localhost:8080/"
        },
        "id": "tzAtsyW24YAv",
        "outputId": "204b6330-aded-497d-bf07-52052d846500"
      },
      "execution_count": null,
      "outputs": [
        {
          "output_type": "stream",
          "name": "stdout",
          "text": [
            "d1 4.0\n",
            "d2 4.0001\n",
            "slope 0.9999999999976694\n"
          ]
        }
      ]
    },
    {
      "cell_type": "code",
      "source": [
        "class Value:\n",
        "  def __init__(self,data,_children=(),_op='',label=''):\n",
        "    self.data=data\n",
        "    self.grad=0.0\n",
        "    self._backward=lambda: None\n",
        "    self._prev=set(_children)\n",
        "    self._op = _op\n",
        "    self.label=label\n",
        "\n",
        "  def __repr__(self):\n",
        "    return f\"Value(data={self.data})\"\n",
        "\n",
        "  def __add__(self, other):\n",
        "    other = other if isinstance(other,Value) else Value(other)  #So that operations like a+2 don't return error. here a is a 'Value'\n",
        "    out=Value(self.data+other.data,(self,other),'+')\n",
        "\n",
        "    def _backward():\n",
        "      self.grad += 1.0*out.grad\n",
        "      other.grad += 1.0*out.grad\n",
        "    out._backward=_backward\n",
        "\n",
        "    return out\n",
        "\n",
        "  def __sub__(self, other): # self - other\n",
        "    return self + (-other)\n",
        "\n",
        "\n",
        "  def __mul__(self,other):\n",
        "    other = other if isinstance(other,Value) else Value(other)  # same as add one\n",
        "    out=Value(self.data*other.data,(self,other),'*')\n",
        "    def _backward():\n",
        "      self.grad += other.data*out.grad\n",
        "      other.grad+=self.data*out.grad\n",
        "    out._backward=_backward\n",
        "    return out\n",
        "\n",
        "\n",
        "  def __rmul__(self,other): # to implement other*self\n",
        "    return self*other\n",
        "\n",
        "\n",
        "  def __neg__(self):\n",
        "    return self*-1\n",
        "\n",
        "\n",
        "  def __pow__(self,other):\n",
        "    assert isinstance(other,(int,float)), \"only supporting int/float powers now\"\n",
        "    out=Value(self.data**other,(self,),f'**{other}')\n",
        "\n",
        "    def _backward():\n",
        "      self.grad+=other*(self.data**(other-1))*out.grad\n",
        "    out._backward=_backward\n",
        "\n",
        "    return out\n",
        "\n",
        "  def __truediv__(self,other):\n",
        "    return self*other**-1\n",
        "\n",
        "\n",
        "\n",
        "  def tanh(self):\n",
        "    x=self.data\n",
        "    t=(math.exp(2*x)-1)/(math.exp(2*x)+1)\n",
        "    out=Value(t,(self,),'tanh')\n",
        "\n",
        "    def _backward():\n",
        "      self.grad+=(1-t**2)*out.grad\n",
        "    out._backward=_backward\n",
        "\n",
        "    return out\n",
        "\n",
        "  def exp(self):\n",
        "    x=self.data\n",
        "    out=Value(math.exp(x),(self,),'exp')\n",
        "\n",
        "    def _backward():\n",
        "      self.grad+=out.data*out.grad\n",
        "    out._backward=_backward\n",
        "\n",
        "    return out\n",
        "\n",
        "  def __radd__(self, other): # other + self\n",
        "    return self + other\n",
        "\n",
        "\n",
        "  def backward(self):\n",
        "  #Topological sorting will ensure that we calculate gradient in the correct order\n",
        "    topo=[]\n",
        "    visited=set()\n",
        "    def build_topo(v):\n",
        "      if v not in visited:\n",
        "        visited.add(v)\n",
        "        for child in v._prev:\n",
        "          build_topo(child)\n",
        "        topo.append(v)\n",
        "    build_topo(self)\n",
        "\n",
        "    self.grad=1.0\n",
        "    for node in reversed(topo):   ## Now saved in Value() only\n",
        "      node._backward()\n"
      ],
      "metadata": {
        "id": "kDigsBE846jO"
      },
      "execution_count": null,
      "outputs": []
    },
    {
      "cell_type": "code",
      "source": [
        "from graphviz import Digraph\n",
        "\n",
        "def trace(root):\n",
        "  #builds the set of all nodes and edges in a graph\n",
        "  nodes,edges=set(),set()\n",
        "  def build(v):\n",
        "    nodes.add(v)\n",
        "    for child in v._prev:\n",
        "      edges.add((child,v))\n",
        "      build(child)\n",
        "  build(root)\n",
        "  return nodes,edges\n",
        "\n",
        "\n",
        "def draw_dot(root):\n",
        "  dot=Digraph(format='svg', graph_attr={'rankdir':'LR'})  ## LR stands for left to right\n",
        "\n",
        "  nodes,edges=trace(root)\n",
        "  for n in nodes:\n",
        "    uid=str(id(n))\n",
        "    #for any value in the graph, create a rectangular {'record'} node for it\n",
        "    dot.node(name=uid, label=\"{%s | data%.4f| grad %.4f}\"%(n.label,n.data,n.grad,), shape='record')\n",
        "    if n._op:\n",
        "      # if this value results is a result of some operation, create an op node for it\n",
        "      dot.node(name=uid+n._op,label=n._op)\n",
        "      # and connect this node to it\n",
        "      dot.edge(uid+n._op,uid)\n",
        "  for n1,n2 in edges:\n",
        "    # connect n1 to op node of n2\n",
        "    dot.edge(str(id(n1)),str(id(n2))+n2._op)\n",
        "  return dot"
      ],
      "metadata": {
        "id": "0aztNO4h7LSJ"
      },
      "execution_count": null,
      "outputs": []
    },
    {
      "cell_type": "code",
      "source": [
        "def lol():  #perturb the value wrt which you want the derivative\n",
        "  h=0.0001\n",
        "\n",
        "  a=Value(2.0,label='a')\n",
        "  b=Value(-3.0,label='b')\n",
        "  c=Value(10.0,label='c')\n",
        "  e=a*b; e.label='e'\n",
        "  d=e+c; d.label='d'\n",
        "  f=Value(-2.0, label='f')\n",
        "  L=d*f; L.label=\"L\"\n",
        "  L1=L.data\n",
        "\n",
        "  a=Value(2.0,label='a')\n",
        "  b=Value(-3.0,label='b')\n",
        "  c=Value(10.0,label='c')\n",
        "  e=a*b; e.label='e'\n",
        "  d=e+c; d.label='d'\n",
        "  f=Value(-2.0, label='f')\n",
        "  L=d*f; L.label=\"L\"\n",
        "  L2=L.data+h\n",
        "\n",
        "  print((L2-L1)/h)"
      ],
      "metadata": {
        "id": "amOK_7Ee-ujX"
      },
      "execution_count": null,
      "outputs": []
    },
    {
      "cell_type": "code",
      "source": [
        "#input\n",
        "x1=Value(2.0, label='x1')\n",
        "x2=Value(0.0, label='x2')\n",
        "\n",
        "#weights\n",
        "w1=Value(-3.0, label='w1')\n",
        "w2=Value(1.0, label='w2')\n",
        "\n",
        "#bias\n",
        "b=Value(6.8813735870195432,label='b')\n",
        "\n",
        "x1w1=x1*w1; x1w1.label='x1*w1'\n",
        "x2w2=x2*w2; x2w2.label='x2*w2'\n",
        "\n",
        "x1w1x2w2=x1w1+x2w2; x1w1x2w2.label='x1*w1+x2*w2'\n",
        "\n",
        "n=x1w1x2w2+b; n.label='n'\n",
        "o=n.tanh();o.label='o'\n",
        "o.backward()"
      ],
      "metadata": {
        "id": "-VGzpnfEsK_C"
      },
      "execution_count": null,
      "outputs": []
    },
    {
      "cell_type": "code",
      "source": [
        "draw_dot(o)"
      ],
      "metadata": {
        "colab": {
          "base_uri": "https://localhost:8080/",
          "height": 321
        },
        "id": "5A8O49JLv0Mw",
        "outputId": "83e6fe1d-3090-473c-811f-ae377bb89791"
      },
      "execution_count": null,
      "outputs": [
        {
          "output_type": "execute_result",
          "data": {
            "image/svg+xml": "<?xml version=\"1.0\" encoding=\"UTF-8\" standalone=\"no\"?>\n<!DOCTYPE svg PUBLIC \"-//W3C//DTD SVG 1.1//EN\"\n \"http://www.w3.org/Graphics/SVG/1.1/DTD/svg11.dtd\">\n<!-- Generated by graphviz version 2.43.0 (0)\n -->\n<!-- Title: %3 Pages: 1 -->\n<svg width=\"1549pt\" height=\"210pt\"\n viewBox=\"0.00 0.00 1549.00 210.00\" xmlns=\"http://www.w3.org/2000/svg\" xmlns:xlink=\"http://www.w3.org/1999/xlink\">\n<g id=\"graph0\" class=\"graph\" transform=\"scale(1 1) rotate(0) translate(4 206)\">\n<title>%3</title>\n<polygon fill=\"white\" stroke=\"transparent\" points=\"-4,4 -4,-206 1545,-206 1545,4 -4,4\"/>\n<!-- 138124128113696 -->\n<g id=\"node1\" class=\"node\">\n<title>138124128113696</title>\n<polygon fill=\"none\" stroke=\"black\" points=\"703.5,-137.5 703.5,-173.5 885.5,-173.5 885.5,-137.5 703.5,-137.5\"/>\n<text text-anchor=\"middle\" x=\"715\" y=\"-151.8\" font-family=\"Times,serif\" font-size=\"14.00\">b</text>\n<polyline fill=\"none\" stroke=\"black\" points=\"726.5,-137.5 726.5,-173.5 \"/>\n<text text-anchor=\"middle\" x=\"765\" y=\"-151.8\" font-family=\"Times,serif\" font-size=\"14.00\">data6.8814</text>\n<polyline fill=\"none\" stroke=\"black\" points=\"803.5,-137.5 803.5,-173.5 \"/>\n<text text-anchor=\"middle\" x=\"844.5\" y=\"-151.8\" font-family=\"Times,serif\" font-size=\"14.00\">grad 0.5000</text>\n</g>\n<!-- 138124128113456+ -->\n<g id=\"node9\" class=\"node\">\n<title>138124128113456+</title>\n<ellipse fill=\"none\" stroke=\"black\" cx=\"988\" cy=\"-127.5\" rx=\"27\" ry=\"18\"/>\n<text text-anchor=\"middle\" x=\"988\" y=\"-123.8\" font-family=\"Times,serif\" font-size=\"14.00\">+</text>\n</g>\n<!-- 138124128113696&#45;&gt;138124128113456+ -->\n<g id=\"edge9\" class=\"edge\">\n<title>138124128113696&#45;&gt;138124128113456+</title>\n<path fill=\"none\" stroke=\"black\" d=\"M885.64,-142.32C908.94,-138.91 932.69,-135.44 951.33,-132.71\"/>\n<polygon fill=\"black\" stroke=\"black\" points=\"952.02,-136.15 961.41,-131.24 951.01,-129.23 952.02,-136.15\"/>\n</g>\n<!-- 138124128116336 -->\n<g id=\"node2\" class=\"node\">\n<title>138124128116336</title>\n<polygon fill=\"none\" stroke=\"black\" points=\"1.5,-165.5 1.5,-201.5 194.5,-201.5 194.5,-165.5 1.5,-165.5\"/>\n<text text-anchor=\"middle\" x=\"16.5\" y=\"-179.8\" font-family=\"Times,serif\" font-size=\"14.00\">x1</text>\n<polyline fill=\"none\" stroke=\"black\" points=\"31.5,-165.5 31.5,-201.5 \"/>\n<text text-anchor=\"middle\" x=\"70\" y=\"-179.8\" font-family=\"Times,serif\" font-size=\"14.00\">data2.0000</text>\n<polyline fill=\"none\" stroke=\"black\" points=\"108.5,-165.5 108.5,-201.5 \"/>\n<text text-anchor=\"middle\" x=\"151.5\" y=\"-179.8\" font-family=\"Times,serif\" font-size=\"14.00\">grad &#45;1.5000</text>\n</g>\n<!-- 138124128115376* -->\n<g id=\"node4\" class=\"node\">\n<title>138124128115376*</title>\n<ellipse fill=\"none\" stroke=\"black\" cx=\"259\" cy=\"-128.5\" rx=\"27\" ry=\"18\"/>\n<text text-anchor=\"middle\" x=\"259\" y=\"-124.8\" font-family=\"Times,serif\" font-size=\"14.00\">*</text>\n</g>\n<!-- 138124128116336&#45;&gt;138124128115376* -->\n<g id=\"edge13\" class=\"edge\">\n<title>138124128116336&#45;&gt;138124128115376*</title>\n<path fill=\"none\" stroke=\"black\" d=\"M168.82,-165.45C178.03,-162.67 187.29,-159.66 196,-156.5 206.52,-152.69 217.74,-147.86 227.71,-143.3\"/>\n<polygon fill=\"black\" stroke=\"black\" points=\"229.24,-146.44 236.81,-139.04 226.27,-140.1 229.24,-146.44\"/>\n</g>\n<!-- 138124128115376 -->\n<g id=\"node3\" class=\"node\">\n<title>138124128115376</title>\n<polygon fill=\"none\" stroke=\"black\" points=\"322,-110.5 322,-146.5 538,-146.5 538,-110.5 322,-110.5\"/>\n<text text-anchor=\"middle\" x=\"348.5\" y=\"-124.8\" font-family=\"Times,serif\" font-size=\"14.00\">x1*w1</text>\n<polyline fill=\"none\" stroke=\"black\" points=\"375,-110.5 375,-146.5 \"/>\n<text text-anchor=\"middle\" x=\"415.5\" y=\"-124.8\" font-family=\"Times,serif\" font-size=\"14.00\">data&#45;6.0000</text>\n<polyline fill=\"none\" stroke=\"black\" points=\"456,-110.5 456,-146.5 \"/>\n<text text-anchor=\"middle\" x=\"497\" y=\"-124.8\" font-family=\"Times,serif\" font-size=\"14.00\">grad 0.5000</text>\n</g>\n<!-- 138124128121136+ -->\n<g id=\"node7\" class=\"node\">\n<title>138124128121136+</title>\n<ellipse fill=\"none\" stroke=\"black\" cx=\"601\" cy=\"-100.5\" rx=\"27\" ry=\"18\"/>\n<text text-anchor=\"middle\" x=\"601\" y=\"-96.8\" font-family=\"Times,serif\" font-size=\"14.00\">+</text>\n</g>\n<!-- 138124128115376&#45;&gt;138124128121136+ -->\n<g id=\"edge11\" class=\"edge\">\n<title>138124128115376&#45;&gt;138124128121136+</title>\n<path fill=\"none\" stroke=\"black\" d=\"M538.03,-110.77C547.41,-109.21 556.4,-107.72 564.47,-106.39\"/>\n<polygon fill=\"black\" stroke=\"black\" points=\"565.22,-109.81 574.51,-104.72 564.08,-102.9 565.22,-109.81\"/>\n</g>\n<!-- 138124128115376*&#45;&gt;138124128115376 -->\n<g id=\"edge1\" class=\"edge\">\n<title>138124128115376*&#45;&gt;138124128115376</title>\n<path fill=\"none\" stroke=\"black\" d=\"M286.04,-128.5C293.59,-128.5 302.38,-128.5 311.8,-128.5\"/>\n<polygon fill=\"black\" stroke=\"black\" points=\"311.83,-132 321.83,-128.5 311.83,-125 311.83,-132\"/>\n</g>\n<!-- 138124128115616 -->\n<g id=\"node5\" class=\"node\">\n<title>138124128115616</title>\n<polygon fill=\"none\" stroke=\"black\" points=\"3.5,-55.5 3.5,-91.5 192.5,-91.5 192.5,-55.5 3.5,-55.5\"/>\n<text text-anchor=\"middle\" x=\"18.5\" y=\"-69.8\" font-family=\"Times,serif\" font-size=\"14.00\">x2</text>\n<polyline fill=\"none\" stroke=\"black\" points=\"33.5,-55.5 33.5,-91.5 \"/>\n<text text-anchor=\"middle\" x=\"72\" y=\"-69.8\" font-family=\"Times,serif\" font-size=\"14.00\">data0.0000</text>\n<polyline fill=\"none\" stroke=\"black\" points=\"110.5,-55.5 110.5,-91.5 \"/>\n<text text-anchor=\"middle\" x=\"151.5\" y=\"-69.8\" font-family=\"Times,serif\" font-size=\"14.00\">grad 0.5000</text>\n</g>\n<!-- 138124128123296* -->\n<g id=\"node11\" class=\"node\">\n<title>138124128123296*</title>\n<ellipse fill=\"none\" stroke=\"black\" cx=\"259\" cy=\"-73.5\" rx=\"27\" ry=\"18\"/>\n<text text-anchor=\"middle\" x=\"259\" y=\"-69.8\" font-family=\"Times,serif\" font-size=\"14.00\">*</text>\n</g>\n<!-- 138124128115616&#45;&gt;138124128123296* -->\n<g id=\"edge6\" class=\"edge\">\n<title>138124128115616&#45;&gt;138124128123296*</title>\n<path fill=\"none\" stroke=\"black\" d=\"M192.87,-73.5C203,-73.5 212.81,-73.5 221.62,-73.5\"/>\n<polygon fill=\"black\" stroke=\"black\" points=\"221.8,-77 231.8,-73.5 221.8,-70 221.8,-77\"/>\n</g>\n<!-- 138124128121136 -->\n<g id=\"node6\" class=\"node\">\n<title>138124128121136</title>\n<polygon fill=\"none\" stroke=\"black\" points=\"664,-82.5 664,-118.5 925,-118.5 925,-82.5 664,-82.5\"/>\n<text text-anchor=\"middle\" x=\"713\" y=\"-96.8\" font-family=\"Times,serif\" font-size=\"14.00\">x1*w1+x2*w2</text>\n<polyline fill=\"none\" stroke=\"black\" points=\"762,-82.5 762,-118.5 \"/>\n<text text-anchor=\"middle\" x=\"802.5\" y=\"-96.8\" font-family=\"Times,serif\" font-size=\"14.00\">data&#45;6.0000</text>\n<polyline fill=\"none\" stroke=\"black\" points=\"843,-82.5 843,-118.5 \"/>\n<text text-anchor=\"middle\" x=\"884\" y=\"-96.8\" font-family=\"Times,serif\" font-size=\"14.00\">grad 0.5000</text>\n</g>\n<!-- 138124128121136&#45;&gt;138124128113456+ -->\n<g id=\"edge7\" class=\"edge\">\n<title>138124128121136&#45;&gt;138124128113456+</title>\n<path fill=\"none\" stroke=\"black\" d=\"M923.23,-118.51C933.27,-119.92 942.77,-121.26 951.23,-122.46\"/>\n<polygon fill=\"black\" stroke=\"black\" points=\"950.96,-125.95 961.35,-123.88 951.93,-119.02 950.96,-125.95\"/>\n</g>\n<!-- 138124128121136+&#45;&gt;138124128121136 -->\n<g id=\"edge2\" class=\"edge\">\n<title>138124128121136+&#45;&gt;138124128121136</title>\n<path fill=\"none\" stroke=\"black\" d=\"M628.23,-100.5C635.68,-100.5 644.35,-100.5 653.74,-100.5\"/>\n<polygon fill=\"black\" stroke=\"black\" points=\"653.76,-104 663.76,-100.5 653.76,-97 653.76,-104\"/>\n</g>\n<!-- 138124128113456 -->\n<g id=\"node8\" class=\"node\">\n<title>138124128113456</title>\n<polygon fill=\"none\" stroke=\"black\" points=\"1051,-109.5 1051,-145.5 1233,-145.5 1233,-109.5 1051,-109.5\"/>\n<text text-anchor=\"middle\" x=\"1062.5\" y=\"-123.8\" font-family=\"Times,serif\" font-size=\"14.00\">n</text>\n<polyline fill=\"none\" stroke=\"black\" points=\"1074,-109.5 1074,-145.5 \"/>\n<text text-anchor=\"middle\" x=\"1112.5\" y=\"-123.8\" font-family=\"Times,serif\" font-size=\"14.00\">data0.8814</text>\n<polyline fill=\"none\" stroke=\"black\" points=\"1151,-109.5 1151,-145.5 \"/>\n<text text-anchor=\"middle\" x=\"1192\" y=\"-123.8\" font-family=\"Times,serif\" font-size=\"14.00\">grad 0.5000</text>\n</g>\n<!-- 138124126876624tanh -->\n<g id=\"node15\" class=\"node\">\n<title>138124126876624tanh</title>\n<ellipse fill=\"none\" stroke=\"black\" cx=\"1296\" cy=\"-127.5\" rx=\"27\" ry=\"18\"/>\n<text text-anchor=\"middle\" x=\"1296\" y=\"-123.8\" font-family=\"Times,serif\" font-size=\"14.00\">tanh</text>\n</g>\n<!-- 138124128113456&#45;&gt;138124126876624tanh -->\n<g id=\"edge10\" class=\"edge\">\n<title>138124128113456&#45;&gt;138124126876624tanh</title>\n<path fill=\"none\" stroke=\"black\" d=\"M1233.18,-127.5C1242.14,-127.5 1250.83,-127.5 1258.73,-127.5\"/>\n<polygon fill=\"black\" stroke=\"black\" points=\"1258.96,-131 1268.96,-127.5 1258.96,-124 1258.96,-131\"/>\n</g>\n<!-- 138124128113456+&#45;&gt;138124128113456 -->\n<g id=\"edge3\" class=\"edge\">\n<title>138124128113456+&#45;&gt;138124128113456</title>\n<path fill=\"none\" stroke=\"black\" d=\"M1015.13,-127.5C1022.67,-127.5 1031.39,-127.5 1040.64,-127.5\"/>\n<polygon fill=\"black\" stroke=\"black\" points=\"1040.87,-131 1050.87,-127.5 1040.87,-124 1040.87,-131\"/>\n</g>\n<!-- 138124128123296 -->\n<g id=\"node10\" class=\"node\">\n<title>138124128123296</title>\n<polygon fill=\"none\" stroke=\"black\" points=\"324,-55.5 324,-91.5 536,-91.5 536,-55.5 324,-55.5\"/>\n<text text-anchor=\"middle\" x=\"350.5\" y=\"-69.8\" font-family=\"Times,serif\" font-size=\"14.00\">x2*w2</text>\n<polyline fill=\"none\" stroke=\"black\" points=\"377,-55.5 377,-91.5 \"/>\n<text text-anchor=\"middle\" x=\"415.5\" y=\"-69.8\" font-family=\"Times,serif\" font-size=\"14.00\">data0.0000</text>\n<polyline fill=\"none\" stroke=\"black\" points=\"454,-55.5 454,-91.5 \"/>\n<text text-anchor=\"middle\" x=\"495\" y=\"-69.8\" font-family=\"Times,serif\" font-size=\"14.00\">grad 0.5000</text>\n</g>\n<!-- 138124128123296&#45;&gt;138124128121136+ -->\n<g id=\"edge12\" class=\"edge\">\n<title>138124128123296&#45;&gt;138124128121136+</title>\n<path fill=\"none\" stroke=\"black\" d=\"M536.11,-90.29C546.23,-91.91 555.92,-93.46 564.57,-94.84\"/>\n<polygon fill=\"black\" stroke=\"black\" points=\"564.13,-98.31 574.56,-96.43 565.23,-91.4 564.13,-98.31\"/>\n</g>\n<!-- 138124128123296*&#45;&gt;138124128123296 -->\n<g id=\"edge4\" class=\"edge\">\n<title>138124128123296*&#45;&gt;138124128123296</title>\n<path fill=\"none\" stroke=\"black\" d=\"M286.04,-73.5C294.02,-73.5 303.37,-73.5 313.41,-73.5\"/>\n<polygon fill=\"black\" stroke=\"black\" points=\"313.64,-77 323.64,-73.5 313.64,-70 313.64,-77\"/>\n</g>\n<!-- 138124128114608 -->\n<g id=\"node12\" class=\"node\">\n<title>138124128114608</title>\n<polygon fill=\"none\" stroke=\"black\" points=\"2,-0.5 2,-36.5 194,-36.5 194,-0.5 2,-0.5\"/>\n<text text-anchor=\"middle\" x=\"18.5\" y=\"-14.8\" font-family=\"Times,serif\" font-size=\"14.00\">w2</text>\n<polyline fill=\"none\" stroke=\"black\" points=\"35,-0.5 35,-36.5 \"/>\n<text text-anchor=\"middle\" x=\"73.5\" y=\"-14.8\" font-family=\"Times,serif\" font-size=\"14.00\">data1.0000</text>\n<polyline fill=\"none\" stroke=\"black\" points=\"112,-0.5 112,-36.5 \"/>\n<text text-anchor=\"middle\" x=\"153\" y=\"-14.8\" font-family=\"Times,serif\" font-size=\"14.00\">grad 0.0000</text>\n</g>\n<!-- 138124128114608&#45;&gt;138124128123296* -->\n<g id=\"edge8\" class=\"edge\">\n<title>138124128114608&#45;&gt;138124128123296*</title>\n<path fill=\"none\" stroke=\"black\" d=\"M165.89,-36.57C176.05,-39.67 186.35,-43.02 196,-46.5 206.27,-50.2 217.26,-54.78 227.1,-59.1\"/>\n<polygon fill=\"black\" stroke=\"black\" points=\"225.91,-62.41 236.47,-63.3 228.78,-56.02 225.91,-62.41\"/>\n</g>\n<!-- 138124128122816 -->\n<g id=\"node13\" class=\"node\">\n<title>138124128122816</title>\n<polygon fill=\"none\" stroke=\"black\" points=\"0,-110.5 0,-146.5 196,-146.5 196,-110.5 0,-110.5\"/>\n<text text-anchor=\"middle\" x=\"16.5\" y=\"-124.8\" font-family=\"Times,serif\" font-size=\"14.00\">w1</text>\n<polyline fill=\"none\" stroke=\"black\" points=\"33,-110.5 33,-146.5 \"/>\n<text text-anchor=\"middle\" x=\"73.5\" y=\"-124.8\" font-family=\"Times,serif\" font-size=\"14.00\">data&#45;3.0000</text>\n<polyline fill=\"none\" stroke=\"black\" points=\"114,-110.5 114,-146.5 \"/>\n<text text-anchor=\"middle\" x=\"155\" y=\"-124.8\" font-family=\"Times,serif\" font-size=\"14.00\">grad 1.0000</text>\n</g>\n<!-- 138124128122816&#45;&gt;138124128115376* -->\n<g id=\"edge14\" class=\"edge\">\n<title>138124128122816&#45;&gt;138124128115376*</title>\n<path fill=\"none\" stroke=\"black\" d=\"M196.07,-128.5C205.05,-128.5 213.71,-128.5 221.57,-128.5\"/>\n<polygon fill=\"black\" stroke=\"black\" points=\"221.75,-132 231.75,-128.5 221.75,-125 221.75,-132\"/>\n</g>\n<!-- 138124126876624 -->\n<g id=\"node14\" class=\"node\">\n<title>138124126876624</title>\n<polygon fill=\"none\" stroke=\"black\" points=\"1359,-109.5 1359,-145.5 1541,-145.5 1541,-109.5 1359,-109.5\"/>\n<text text-anchor=\"middle\" x=\"1370.5\" y=\"-123.8\" font-family=\"Times,serif\" font-size=\"14.00\">o</text>\n<polyline fill=\"none\" stroke=\"black\" points=\"1382,-109.5 1382,-145.5 \"/>\n<text text-anchor=\"middle\" x=\"1420.5\" y=\"-123.8\" font-family=\"Times,serif\" font-size=\"14.00\">data0.7071</text>\n<polyline fill=\"none\" stroke=\"black\" points=\"1459,-109.5 1459,-145.5 \"/>\n<text text-anchor=\"middle\" x=\"1500\" y=\"-123.8\" font-family=\"Times,serif\" font-size=\"14.00\">grad 1.0000</text>\n</g>\n<!-- 138124126876624tanh&#45;&gt;138124126876624 -->\n<g id=\"edge5\" class=\"edge\">\n<title>138124126876624tanh&#45;&gt;138124126876624</title>\n<path fill=\"none\" stroke=\"black\" d=\"M1323.13,-127.5C1330.67,-127.5 1339.39,-127.5 1348.64,-127.5\"/>\n<polygon fill=\"black\" stroke=\"black\" points=\"1348.87,-131 1358.87,-127.5 1348.87,-124 1348.87,-131\"/>\n</g>\n</g>\n</svg>\n",
            "text/plain": [
              "<graphviz.graphs.Digraph at 0x7d9f87977760>"
            ]
          },
          "metadata": {},
          "execution_count": 125
        }
      ]
    },
    {
      "cell_type": "code",
      "source": [
        "#Different implementation for tanh\n",
        "x1=Value(2.0, label='x1')\n",
        "x2=Value(0.0, label='x2')\n",
        "\n",
        "#weights\n",
        "w1=Value(-3.0, label='w1')\n",
        "w2=Value(1.0, label='w2')\n",
        "\n",
        "#bias\n",
        "b=Value(6.8813735870195432,label='b')\n",
        "\n",
        "x1w1=x1*w1; x1w1.label='x1*w1'\n",
        "x2w2=x2*w2; x2w2.label='x2*w2'\n",
        "\n",
        "x1w1x2w2=x1w1+x2w2; x1w1x2w2.label='x1*w1+x2*w2'\n",
        "\n",
        "n=x1w1x2w2+b; n.label='n'\n",
        "\n",
        "e=(2*n).exp()\n",
        "o=(e-1)/(e+1); o.label='o'\n",
        "o.backward()"
      ],
      "metadata": {
        "id": "QMxGovY1_4DA"
      },
      "execution_count": null,
      "outputs": []
    },
    {
      "cell_type": "code",
      "source": [
        "draw_dot(o)"
      ],
      "metadata": {
        "colab": {
          "base_uri": "https://localhost:8080/",
          "height": 360
        },
        "id": "KZWIUfncKX6y",
        "outputId": "8f14c583-73fd-4b67-8501-fc4bc81954d6"
      },
      "execution_count": null,
      "outputs": [
        {
          "output_type": "execute_result",
          "data": {
            "image/svg+xml": "<?xml version=\"1.0\" encoding=\"UTF-8\" standalone=\"no\"?>\n<!DOCTYPE svg PUBLIC \"-//W3C//DTD SVG 1.1//EN\"\n \"http://www.w3.org/Graphics/SVG/1.1/DTD/svg11.dtd\">\n<!-- Generated by graphviz version 2.43.0 (0)\n -->\n<!-- Title: %3 Pages: 1 -->\n<svg width=\"2902pt\" height=\"239pt\"\n viewBox=\"0.00 0.00 2902.00 239.00\" xmlns=\"http://www.w3.org/2000/svg\" xmlns:xlink=\"http://www.w3.org/1999/xlink\">\n<g id=\"graph0\" class=\"graph\" transform=\"scale(1 1) rotate(0) translate(4 235)\">\n<title>%3</title>\n<polygon fill=\"white\" stroke=\"transparent\" points=\"-4,4 -4,-235 2898,-235 2898,4 -4,4\"/>\n<!-- 138124126867456 -->\n<g id=\"node1\" class=\"node\">\n<title>138124126867456</title>\n<polygon fill=\"none\" stroke=\"black\" points=\"1359,-55.5 1359,-91.5 1538,-91.5 1538,-55.5 1359,-55.5\"/>\n<text text-anchor=\"middle\" x=\"1369\" y=\"-69.8\" font-family=\"Times,serif\" font-size=\"14.00\"> </text>\n<polyline fill=\"none\" stroke=\"black\" points=\"1379,-55.5 1379,-91.5 \"/>\n<text text-anchor=\"middle\" x=\"1417.5\" y=\"-69.8\" font-family=\"Times,serif\" font-size=\"14.00\">data1.7627</text>\n<polyline fill=\"none\" stroke=\"black\" points=\"1456,-55.5 1456,-91.5 \"/>\n<text text-anchor=\"middle\" x=\"1497\" y=\"-69.8\" font-family=\"Times,serif\" font-size=\"14.00\">grad 0.2500</text>\n</g>\n<!-- 138124126876144exp -->\n<g id=\"node28\" class=\"node\">\n<title>138124126876144exp</title>\n<ellipse fill=\"none\" stroke=\"black\" cx=\"1601\" cy=\"-73.5\" rx=\"27\" ry=\"18\"/>\n<text text-anchor=\"middle\" x=\"1601\" y=\"-69.8\" font-family=\"Times,serif\" font-size=\"14.00\">exp</text>\n</g>\n<!-- 138124126867456&#45;&gt;138124126876144exp -->\n<g id=\"edge16\" class=\"edge\">\n<title>138124126867456&#45;&gt;138124126876144exp</title>\n<path fill=\"none\" stroke=\"black\" d=\"M1538.35,-73.5C1547.19,-73.5 1555.77,-73.5 1563.58,-73.5\"/>\n<polygon fill=\"black\" stroke=\"black\" points=\"1563.71,-77 1573.71,-73.5 1563.71,-70 1563.71,-77\"/>\n</g>\n<!-- 138124126867456* -->\n<g id=\"node2\" class=\"node\">\n<title>138124126867456*</title>\n<ellipse fill=\"none\" stroke=\"black\" cx=\"1296\" cy=\"-73.5\" rx=\"27\" ry=\"18\"/>\n<text text-anchor=\"middle\" x=\"1296\" y=\"-69.8\" font-family=\"Times,serif\" font-size=\"14.00\">*</text>\n</g>\n<!-- 138124126867456*&#45;&gt;138124126867456 -->\n<g id=\"edge1\" class=\"edge\">\n<title>138124126867456*&#45;&gt;138124126867456</title>\n<path fill=\"none\" stroke=\"black\" d=\"M1323.22,-73.5C1330.76,-73.5 1339.47,-73.5 1348.71,-73.5\"/>\n<polygon fill=\"black\" stroke=\"black\" points=\"1348.91,-77 1358.91,-73.5 1348.91,-70 1348.91,-77\"/>\n</g>\n<!-- 138124126877728 -->\n<g id=\"node3\" class=\"node\">\n<title>138124126877728</title>\n<polygon fill=\"none\" stroke=\"black\" points=\"664,-111.5 664,-147.5 925,-147.5 925,-111.5 664,-111.5\"/>\n<text text-anchor=\"middle\" x=\"713\" y=\"-125.8\" font-family=\"Times,serif\" font-size=\"14.00\">x1*w1+x2*w2</text>\n<polyline fill=\"none\" stroke=\"black\" points=\"762,-111.5 762,-147.5 \"/>\n<text text-anchor=\"middle\" x=\"802.5\" y=\"-125.8\" font-family=\"Times,serif\" font-size=\"14.00\">data&#45;6.0000</text>\n<polyline fill=\"none\" stroke=\"black\" points=\"843,-111.5 843,-147.5 \"/>\n<text text-anchor=\"middle\" x=\"884\" y=\"-125.8\" font-family=\"Times,serif\" font-size=\"14.00\">grad 0.5000</text>\n</g>\n<!-- 138124126877920+ -->\n<g id=\"node13\" class=\"node\">\n<title>138124126877920+</title>\n<ellipse fill=\"none\" stroke=\"black\" cx=\"988\" cy=\"-101.5\" rx=\"27\" ry=\"18\"/>\n<text text-anchor=\"middle\" x=\"988\" y=\"-97.8\" font-family=\"Times,serif\" font-size=\"14.00\">+</text>\n</g>\n<!-- 138124126877728&#45;&gt;138124126877920+ -->\n<g id=\"edge19\" class=\"edge\">\n<title>138124126877728&#45;&gt;138124126877920+</title>\n<path fill=\"none\" stroke=\"black\" d=\"M918.68,-111.49C930.41,-109.77 941.54,-108.15 951.28,-106.72\"/>\n<polygon fill=\"black\" stroke=\"black\" points=\"951.88,-110.17 961.27,-105.26 950.86,-103.25 951.88,-110.17\"/>\n</g>\n<!-- 138124126877728+ -->\n<g id=\"node4\" class=\"node\">\n<title>138124126877728+</title>\n<ellipse fill=\"none\" stroke=\"black\" cx=\"601\" cy=\"-129.5\" rx=\"27\" ry=\"18\"/>\n<text text-anchor=\"middle\" x=\"601\" y=\"-125.8\" font-family=\"Times,serif\" font-size=\"14.00\">+</text>\n</g>\n<!-- 138124126877728+&#45;&gt;138124126877728 -->\n<g id=\"edge2\" class=\"edge\">\n<title>138124126877728+&#45;&gt;138124126877728</title>\n<path fill=\"none\" stroke=\"black\" d=\"M628.23,-129.5C635.68,-129.5 644.35,-129.5 653.74,-129.5\"/>\n<polygon fill=\"black\" stroke=\"black\" points=\"653.76,-133 663.76,-129.5 653.76,-126 653.76,-133\"/>\n</g>\n<!-- 138124126870576 -->\n<g id=\"node5\" class=\"node\">\n<title>138124126870576</title>\n<polygon fill=\"none\" stroke=\"black\" points=\"2,-84.5 2,-120.5 194,-120.5 194,-84.5 2,-84.5\"/>\n<text text-anchor=\"middle\" x=\"18.5\" y=\"-98.8\" font-family=\"Times,serif\" font-size=\"14.00\">w2</text>\n<polyline fill=\"none\" stroke=\"black\" points=\"35,-84.5 35,-120.5 \"/>\n<text text-anchor=\"middle\" x=\"73.5\" y=\"-98.8\" font-family=\"Times,serif\" font-size=\"14.00\">data1.0000</text>\n<polyline fill=\"none\" stroke=\"black\" points=\"112,-84.5 112,-120.5 \"/>\n<text text-anchor=\"middle\" x=\"153\" y=\"-98.8\" font-family=\"Times,serif\" font-size=\"14.00\">grad 0.0000</text>\n</g>\n<!-- 138124126877536* -->\n<g id=\"node24\" class=\"node\">\n<title>138124126877536*</title>\n<ellipse fill=\"none\" stroke=\"black\" cx=\"259\" cy=\"-102.5\" rx=\"27\" ry=\"18\"/>\n<text text-anchor=\"middle\" x=\"259\" y=\"-98.8\" font-family=\"Times,serif\" font-size=\"14.00\">*</text>\n</g>\n<!-- 138124126870576&#45;&gt;138124126877536* -->\n<g id=\"edge13\" class=\"edge\">\n<title>138124126870576&#45;&gt;138124126877536*</title>\n<path fill=\"none\" stroke=\"black\" d=\"M194.24,-102.5C203.92,-102.5 213.27,-102.5 221.69,-102.5\"/>\n<polygon fill=\"black\" stroke=\"black\" points=\"221.81,-106 231.81,-102.5 221.81,-99 221.81,-106\"/>\n</g>\n<!-- 138124126872640 -->\n<g id=\"node6\" class=\"node\">\n<title>138124126872640</title>\n<polygon fill=\"none\" stroke=\"black\" points=\"2192,-27.5 2192,-63.5 2371,-63.5 2371,-27.5 2192,-27.5\"/>\n<text text-anchor=\"middle\" x=\"2202\" y=\"-41.8\" font-family=\"Times,serif\" font-size=\"14.00\"> </text>\n<polyline fill=\"none\" stroke=\"black\" points=\"2212,-27.5 2212,-63.5 \"/>\n<text text-anchor=\"middle\" x=\"2250.5\" y=\"-41.8\" font-family=\"Times,serif\" font-size=\"14.00\">data4.8284</text>\n<polyline fill=\"none\" stroke=\"black\" points=\"2289,-27.5 2289,-63.5 \"/>\n<text text-anchor=\"middle\" x=\"2330\" y=\"-41.8\" font-family=\"Times,serif\" font-size=\"14.00\">grad 0.1464</text>\n</g>\n<!-- 138124126869904* -->\n<g id=\"node26\" class=\"node\">\n<title>138124126869904*</title>\n<ellipse fill=\"none\" stroke=\"black\" cx=\"2649\" cy=\"-72.5\" rx=\"27\" ry=\"18\"/>\n<text text-anchor=\"middle\" x=\"2649\" y=\"-68.8\" font-family=\"Times,serif\" font-size=\"14.00\">*</text>\n</g>\n<!-- 138124126872640&#45;&gt;138124126869904* -->\n<g id=\"edge17\" class=\"edge\">\n<title>138124126872640&#45;&gt;138124126869904*</title>\n<path fill=\"none\" stroke=\"black\" d=\"M2371.44,-52.07C2448.67,-57.77 2556.55,-65.74 2611.98,-69.84\"/>\n<polygon fill=\"black\" stroke=\"black\" points=\"2611.79,-73.33 2622.02,-70.58 2612.3,-66.35 2611.79,-73.33\"/>\n</g>\n<!-- 138124126872640+ -->\n<g id=\"node7\" class=\"node\">\n<title>138124126872640+</title>\n<ellipse fill=\"none\" stroke=\"black\" cx=\"1910\" cy=\"-45.5\" rx=\"27\" ry=\"18\"/>\n<text text-anchor=\"middle\" x=\"1910\" y=\"-41.8\" font-family=\"Times,serif\" font-size=\"14.00\">+</text>\n</g>\n<!-- 138124126872640+&#45;&gt;138124126872640 -->\n<g id=\"edge3\" class=\"edge\">\n<title>138124126872640+&#45;&gt;138124126872640</title>\n<path fill=\"none\" stroke=\"black\" d=\"M1937.28,-45.5C1987.45,-45.5 2099.23,-45.5 2181.65,-45.5\"/>\n<polygon fill=\"black\" stroke=\"black\" points=\"2181.81,-49 2191.81,-45.5 2181.81,-42 2181.81,-49\"/>\n</g>\n<!-- 138124126870624 -->\n<g id=\"node8\" class=\"node\">\n<title>138124126870624</title>\n<polygon fill=\"none\" stroke=\"black\" points=\"2407,-80.5 2407,-116.5 2586,-116.5 2586,-80.5 2407,-80.5\"/>\n<text text-anchor=\"middle\" x=\"2417\" y=\"-94.8\" font-family=\"Times,serif\" font-size=\"14.00\"> </text>\n<polyline fill=\"none\" stroke=\"black\" points=\"2427,-80.5 2427,-116.5 \"/>\n<text text-anchor=\"middle\" x=\"2465.5\" y=\"-94.8\" font-family=\"Times,serif\" font-size=\"14.00\">data0.1464</text>\n<polyline fill=\"none\" stroke=\"black\" points=\"2504,-80.5 2504,-116.5 \"/>\n<text text-anchor=\"middle\" x=\"2545\" y=\"-94.8\" font-family=\"Times,serif\" font-size=\"14.00\">grad 4.8284</text>\n</g>\n<!-- 138124126870624&#45;&gt;138124126869904* -->\n<g id=\"edge25\" class=\"edge\">\n<title>138124126870624&#45;&gt;138124126869904*</title>\n<path fill=\"none\" stroke=\"black\" d=\"M2586.35,-83.15C2595.56,-81.56 2604.48,-80.02 2612.55,-78.63\"/>\n<polygon fill=\"black\" stroke=\"black\" points=\"2613.35,-82.04 2622.61,-76.89 2612.16,-75.14 2613.35,-82.04\"/>\n</g>\n<!-- 138124126870624**&#45;1 -->\n<g id=\"node9\" class=\"node\">\n<title>138124126870624**&#45;1</title>\n<ellipse fill=\"none\" stroke=\"black\" cx=\"2281.5\" cy=\"-100.5\" rx=\"27\" ry=\"18\"/>\n<text text-anchor=\"middle\" x=\"2281.5\" y=\"-96.8\" font-family=\"Times,serif\" font-size=\"14.00\">**&#45;1</text>\n</g>\n<!-- 138124126870624**&#45;1&#45;&gt;138124126870624 -->\n<g id=\"edge4\" class=\"edge\">\n<title>138124126870624**&#45;1&#45;&gt;138124126870624</title>\n<path fill=\"none\" stroke=\"black\" d=\"M2308.62,-100.25C2330.87,-100.05 2364.31,-99.73 2396.78,-99.43\"/>\n<polygon fill=\"black\" stroke=\"black\" points=\"2396.84,-102.93 2406.81,-99.33 2396.78,-95.93 2396.84,-102.93\"/>\n</g>\n<!-- 138124126872736 -->\n<g id=\"node10\" class=\"node\">\n<title>138124126872736</title>\n<polygon fill=\"none\" stroke=\"black\" points=\"1664,-0.5 1664,-36.5 1847,-36.5 1847,-0.5 1664,-0.5\"/>\n<text text-anchor=\"middle\" x=\"1674\" y=\"-14.8\" font-family=\"Times,serif\" font-size=\"14.00\"> </text>\n<polyline fill=\"none\" stroke=\"black\" points=\"1684,-0.5 1684,-36.5 \"/>\n<text text-anchor=\"middle\" x=\"1724.5\" y=\"-14.8\" font-family=\"Times,serif\" font-size=\"14.00\">data&#45;1.0000</text>\n<polyline fill=\"none\" stroke=\"black\" points=\"1765,-0.5 1765,-36.5 \"/>\n<text text-anchor=\"middle\" x=\"1806\" y=\"-14.8\" font-family=\"Times,serif\" font-size=\"14.00\">grad 0.1464</text>\n</g>\n<!-- 138124126872736&#45;&gt;138124126872640+ -->\n<g id=\"edge24\" class=\"edge\">\n<title>138124126872736&#45;&gt;138124126872640+</title>\n<path fill=\"none\" stroke=\"black\" d=\"M1847.41,-34.6C1856.64,-36.23 1865.56,-37.81 1873.63,-39.24\"/>\n<polygon fill=\"black\" stroke=\"black\" points=\"1873.22,-42.72 1883.68,-41.02 1874.44,-35.83 1873.22,-42.72\"/>\n</g>\n<!-- 138124126872448 -->\n<g id=\"node11\" class=\"node\">\n<title>138124126872448</title>\n<polygon fill=\"none\" stroke=\"black\" points=\"1664,-110.5 1664,-146.5 1847,-146.5 1847,-110.5 1664,-110.5\"/>\n<text text-anchor=\"middle\" x=\"1674\" y=\"-124.8\" font-family=\"Times,serif\" font-size=\"14.00\"> </text>\n<polyline fill=\"none\" stroke=\"black\" points=\"1684,-110.5 1684,-146.5 \"/>\n<text text-anchor=\"middle\" x=\"1722.5\" y=\"-124.8\" font-family=\"Times,serif\" font-size=\"14.00\">data1.0000</text>\n<polyline fill=\"none\" stroke=\"black\" points=\"1761,-110.5 1761,-146.5 \"/>\n<text text-anchor=\"middle\" x=\"1804\" y=\"-124.8\" font-family=\"Times,serif\" font-size=\"14.00\">grad &#45;0.1036</text>\n</g>\n<!-- 138124126872400+ -->\n<g id=\"node20\" class=\"node\">\n<title>138124126872400+</title>\n<ellipse fill=\"none\" stroke=\"black\" cx=\"1910\" cy=\"-100.5\" rx=\"27\" ry=\"18\"/>\n<text text-anchor=\"middle\" x=\"1910\" y=\"-96.8\" font-family=\"Times,serif\" font-size=\"14.00\">+</text>\n</g>\n<!-- 138124126872448&#45;&gt;138124126872400+ -->\n<g id=\"edge26\" class=\"edge\">\n<title>138124126872448&#45;&gt;138124126872400+</title>\n<path fill=\"none\" stroke=\"black\" d=\"M1847.41,-111.81C1856.64,-110.11 1865.56,-108.48 1873.63,-106.99\"/>\n<polygon fill=\"black\" stroke=\"black\" points=\"1874.48,-110.4 1883.68,-105.15 1873.21,-103.51 1874.48,-110.4\"/>\n</g>\n<!-- 138124126877920 -->\n<g id=\"node12\" class=\"node\">\n<title>138124126877920</title>\n<polygon fill=\"none\" stroke=\"black\" points=\"1051,-83.5 1051,-119.5 1233,-119.5 1233,-83.5 1051,-83.5\"/>\n<text text-anchor=\"middle\" x=\"1062.5\" y=\"-97.8\" font-family=\"Times,serif\" font-size=\"14.00\">n</text>\n<polyline fill=\"none\" stroke=\"black\" points=\"1074,-83.5 1074,-119.5 \"/>\n<text text-anchor=\"middle\" x=\"1112.5\" y=\"-97.8\" font-family=\"Times,serif\" font-size=\"14.00\">data0.8814</text>\n<polyline fill=\"none\" stroke=\"black\" points=\"1151,-83.5 1151,-119.5 \"/>\n<text text-anchor=\"middle\" x=\"1192\" y=\"-97.8\" font-family=\"Times,serif\" font-size=\"14.00\">grad 0.5000</text>\n</g>\n<!-- 138124126877920&#45;&gt;138124126867456* -->\n<g id=\"edge12\" class=\"edge\">\n<title>138124126877920&#45;&gt;138124126867456*</title>\n<path fill=\"none\" stroke=\"black\" d=\"M1233.18,-84.89C1242.61,-83.15 1251.75,-81.47 1259.98,-79.95\"/>\n<polygon fill=\"black\" stroke=\"black\" points=\"1260.66,-83.39 1269.86,-78.13 1259.39,-76.5 1260.66,-83.39\"/>\n</g>\n<!-- 138124126877920+&#45;&gt;138124126877920 -->\n<g id=\"edge5\" class=\"edge\">\n<title>138124126877920+&#45;&gt;138124126877920</title>\n<path fill=\"none\" stroke=\"black\" d=\"M1015.13,-101.5C1022.67,-101.5 1031.39,-101.5 1040.64,-101.5\"/>\n<polygon fill=\"black\" stroke=\"black\" points=\"1040.87,-105 1050.87,-101.5 1040.87,-98 1040.87,-105\"/>\n</g>\n<!-- 138124126876384 -->\n<g id=\"node14\" class=\"node\">\n<title>138124126876384</title>\n<polygon fill=\"none\" stroke=\"black\" points=\"703.5,-56.5 703.5,-92.5 885.5,-92.5 885.5,-56.5 703.5,-56.5\"/>\n<text text-anchor=\"middle\" x=\"715\" y=\"-70.8\" font-family=\"Times,serif\" font-size=\"14.00\">b</text>\n<polyline fill=\"none\" stroke=\"black\" points=\"726.5,-56.5 726.5,-92.5 \"/>\n<text text-anchor=\"middle\" x=\"765\" y=\"-70.8\" font-family=\"Times,serif\" font-size=\"14.00\">data6.8814</text>\n<polyline fill=\"none\" stroke=\"black\" points=\"803.5,-56.5 803.5,-92.5 \"/>\n<text text-anchor=\"middle\" x=\"844.5\" y=\"-70.8\" font-family=\"Times,serif\" font-size=\"14.00\">grad 0.5000</text>\n</g>\n<!-- 138124126876384&#45;&gt;138124126877920+ -->\n<g id=\"edge27\" class=\"edge\">\n<title>138124126876384&#45;&gt;138124126877920+</title>\n<path fill=\"none\" stroke=\"black\" d=\"M885.64,-87.21C908.94,-90.49 932.69,-93.84 951.33,-96.47\"/>\n<polygon fill=\"black\" stroke=\"black\" points=\"951.02,-99.96 961.41,-97.89 951.99,-93.03 951.02,-99.96\"/>\n</g>\n<!-- 138124126873360 -->\n<g id=\"node15\" class=\"node\">\n<title>138124126873360</title>\n<polygon fill=\"none\" stroke=\"black\" points=\"322,-139.5 322,-175.5 538,-175.5 538,-139.5 322,-139.5\"/>\n<text text-anchor=\"middle\" x=\"348.5\" y=\"-153.8\" font-family=\"Times,serif\" font-size=\"14.00\">x1*w1</text>\n<polyline fill=\"none\" stroke=\"black\" points=\"375,-139.5 375,-175.5 \"/>\n<text text-anchor=\"middle\" x=\"415.5\" y=\"-153.8\" font-family=\"Times,serif\" font-size=\"14.00\">data&#45;6.0000</text>\n<polyline fill=\"none\" stroke=\"black\" points=\"456,-139.5 456,-175.5 \"/>\n<text text-anchor=\"middle\" x=\"497\" y=\"-153.8\" font-family=\"Times,serif\" font-size=\"14.00\">grad 0.5000</text>\n</g>\n<!-- 138124126873360&#45;&gt;138124126877728+ -->\n<g id=\"edge14\" class=\"edge\">\n<title>138124126873360&#45;&gt;138124126877728+</title>\n<path fill=\"none\" stroke=\"black\" d=\"M538.03,-139.77C547.41,-138.21 556.4,-136.72 564.47,-135.39\"/>\n<polygon fill=\"black\" stroke=\"black\" points=\"565.22,-138.81 574.51,-133.72 564.08,-131.9 565.22,-138.81\"/>\n</g>\n<!-- 138124126873360* -->\n<g id=\"node16\" class=\"node\">\n<title>138124126873360*</title>\n<ellipse fill=\"none\" stroke=\"black\" cx=\"259\" cy=\"-157.5\" rx=\"27\" ry=\"18\"/>\n<text text-anchor=\"middle\" x=\"259\" y=\"-153.8\" font-family=\"Times,serif\" font-size=\"14.00\">*</text>\n</g>\n<!-- 138124126873360*&#45;&gt;138124126873360 -->\n<g id=\"edge6\" class=\"edge\">\n<title>138124126873360*&#45;&gt;138124126873360</title>\n<path fill=\"none\" stroke=\"black\" d=\"M286.04,-157.5C293.59,-157.5 302.38,-157.5 311.8,-157.5\"/>\n<polygon fill=\"black\" stroke=\"black\" points=\"311.83,-161 321.83,-157.5 311.83,-154 311.83,-161\"/>\n</g>\n<!-- 138124126876960 -->\n<g id=\"node17\" class=\"node\">\n<title>138124126876960</title>\n<polygon fill=\"none\" stroke=\"black\" points=\"3.5,-29.5 3.5,-65.5 192.5,-65.5 192.5,-29.5 3.5,-29.5\"/>\n<text text-anchor=\"middle\" x=\"18.5\" y=\"-43.8\" font-family=\"Times,serif\" font-size=\"14.00\">x2</text>\n<polyline fill=\"none\" stroke=\"black\" points=\"33.5,-29.5 33.5,-65.5 \"/>\n<text text-anchor=\"middle\" x=\"72\" y=\"-43.8\" font-family=\"Times,serif\" font-size=\"14.00\">data0.0000</text>\n<polyline fill=\"none\" stroke=\"black\" points=\"110.5,-29.5 110.5,-65.5 \"/>\n<text text-anchor=\"middle\" x=\"151.5\" y=\"-43.8\" font-family=\"Times,serif\" font-size=\"14.00\">grad 0.5000</text>\n</g>\n<!-- 138124126876960&#45;&gt;138124126877536* -->\n<g id=\"edge11\" class=\"edge\">\n<title>138124126876960&#45;&gt;138124126877536*</title>\n<path fill=\"none\" stroke=\"black\" d=\"M168.82,-65.55C178.03,-68.33 187.29,-71.34 196,-74.5 206.52,-78.31 217.74,-83.14 227.71,-87.7\"/>\n<polygon fill=\"black\" stroke=\"black\" points=\"226.27,-90.9 236.81,-91.96 229.24,-84.56 226.27,-90.9\"/>\n</g>\n<!-- 138124126870336 -->\n<g id=\"node18\" class=\"node\">\n<title>138124126870336</title>\n<polygon fill=\"none\" stroke=\"black\" points=\"1.5,-194.5 1.5,-230.5 194.5,-230.5 194.5,-194.5 1.5,-194.5\"/>\n<text text-anchor=\"middle\" x=\"16.5\" y=\"-208.8\" font-family=\"Times,serif\" font-size=\"14.00\">x1</text>\n<polyline fill=\"none\" stroke=\"black\" points=\"31.5,-194.5 31.5,-230.5 \"/>\n<text text-anchor=\"middle\" x=\"70\" y=\"-208.8\" font-family=\"Times,serif\" font-size=\"14.00\">data2.0000</text>\n<polyline fill=\"none\" stroke=\"black\" points=\"108.5,-194.5 108.5,-230.5 \"/>\n<text text-anchor=\"middle\" x=\"151.5\" y=\"-208.8\" font-family=\"Times,serif\" font-size=\"14.00\">grad &#45;1.5000</text>\n</g>\n<!-- 138124126870336&#45;&gt;138124126873360* -->\n<g id=\"edge20\" class=\"edge\">\n<title>138124126870336&#45;&gt;138124126873360*</title>\n<path fill=\"none\" stroke=\"black\" d=\"M168.82,-194.45C178.03,-191.67 187.29,-188.66 196,-185.5 206.52,-181.69 217.74,-176.86 227.71,-172.3\"/>\n<polygon fill=\"black\" stroke=\"black\" points=\"229.24,-175.44 236.81,-168.04 226.27,-169.1 229.24,-175.44\"/>\n</g>\n<!-- 138124126872400 -->\n<g id=\"node19\" class=\"node\">\n<title>138124126872400</title>\n<polygon fill=\"none\" stroke=\"black\" points=\"1973,-82.5 1973,-118.5 2156,-118.5 2156,-82.5 1973,-82.5\"/>\n<text text-anchor=\"middle\" x=\"1983\" y=\"-96.8\" font-family=\"Times,serif\" font-size=\"14.00\"> </text>\n<polyline fill=\"none\" stroke=\"black\" points=\"1993,-82.5 1993,-118.5 \"/>\n<text text-anchor=\"middle\" x=\"2031.5\" y=\"-96.8\" font-family=\"Times,serif\" font-size=\"14.00\">data6.8284</text>\n<polyline fill=\"none\" stroke=\"black\" points=\"2070,-82.5 2070,-118.5 \"/>\n<text text-anchor=\"middle\" x=\"2113\" y=\"-96.8\" font-family=\"Times,serif\" font-size=\"14.00\">grad &#45;0.1036</text>\n</g>\n<!-- 138124126872400&#45;&gt;138124126870624**&#45;1 -->\n<g id=\"edge28\" class=\"edge\">\n<title>138124126872400&#45;&gt;138124126870624**&#45;1</title>\n<path fill=\"none\" stroke=\"black\" d=\"M2156.06,-100.5C2187.05,-100.5 2219.96,-100.5 2244.15,-100.5\"/>\n<polygon fill=\"black\" stroke=\"black\" points=\"2244.29,-104 2254.29,-100.5 2244.29,-97 2244.29,-104\"/>\n</g>\n<!-- 138124126872400+&#45;&gt;138124126872400 -->\n<g id=\"edge7\" class=\"edge\">\n<title>138124126872400+&#45;&gt;138124126872400</title>\n<path fill=\"none\" stroke=\"black\" d=\"M1937.22,-100.5C1944.72,-100.5 1953.38,-100.5 1962.58,-100.5\"/>\n<polygon fill=\"black\" stroke=\"black\" points=\"1962.75,-104 1972.75,-100.5 1962.75,-97 1962.75,-104\"/>\n</g>\n<!-- 138124126872928 -->\n<g id=\"node21\" class=\"node\">\n<title>138124126872928</title>\n<polygon fill=\"none\" stroke=\"black\" points=\"1052.5,-28.5 1052.5,-64.5 1231.5,-64.5 1231.5,-28.5 1052.5,-28.5\"/>\n<text text-anchor=\"middle\" x=\"1062.5\" y=\"-42.8\" font-family=\"Times,serif\" font-size=\"14.00\"> </text>\n<polyline fill=\"none\" stroke=\"black\" points=\"1072.5,-28.5 1072.5,-64.5 \"/>\n<text text-anchor=\"middle\" x=\"1111\" y=\"-42.8\" font-family=\"Times,serif\" font-size=\"14.00\">data2.0000</text>\n<polyline fill=\"none\" stroke=\"black\" points=\"1149.5,-28.5 1149.5,-64.5 \"/>\n<text text-anchor=\"middle\" x=\"1190.5\" y=\"-42.8\" font-family=\"Times,serif\" font-size=\"14.00\">grad 0.2203</text>\n</g>\n<!-- 138124126872928&#45;&gt;138124126867456* -->\n<g id=\"edge18\" class=\"edge\">\n<title>138124126872928&#45;&gt;138124126867456*</title>\n<path fill=\"none\" stroke=\"black\" d=\"M1231.86,-62.28C1241.65,-64.02 1251.15,-65.71 1259.68,-67.23\"/>\n<polygon fill=\"black\" stroke=\"black\" points=\"1259.1,-70.68 1269.56,-68.98 1260.32,-63.79 1259.1,-70.68\"/>\n</g>\n<!-- 138124126870384 -->\n<g id=\"node22\" class=\"node\">\n<title>138124126870384</title>\n<polygon fill=\"none\" stroke=\"black\" points=\"0,-139.5 0,-175.5 196,-175.5 196,-139.5 0,-139.5\"/>\n<text text-anchor=\"middle\" x=\"16.5\" y=\"-153.8\" font-family=\"Times,serif\" font-size=\"14.00\">w1</text>\n<polyline fill=\"none\" stroke=\"black\" points=\"33,-139.5 33,-175.5 \"/>\n<text text-anchor=\"middle\" x=\"73.5\" y=\"-153.8\" font-family=\"Times,serif\" font-size=\"14.00\">data&#45;3.0000</text>\n<polyline fill=\"none\" stroke=\"black\" points=\"114,-139.5 114,-175.5 \"/>\n<text text-anchor=\"middle\" x=\"155\" y=\"-153.8\" font-family=\"Times,serif\" font-size=\"14.00\">grad 1.0000</text>\n</g>\n<!-- 138124126870384&#45;&gt;138124126873360* -->\n<g id=\"edge23\" class=\"edge\">\n<title>138124126870384&#45;&gt;138124126873360*</title>\n<path fill=\"none\" stroke=\"black\" d=\"M196.07,-157.5C205.05,-157.5 213.71,-157.5 221.57,-157.5\"/>\n<polygon fill=\"black\" stroke=\"black\" points=\"221.75,-161 231.75,-157.5 221.75,-154 221.75,-161\"/>\n</g>\n<!-- 138124126877536 -->\n<g id=\"node23\" class=\"node\">\n<title>138124126877536</title>\n<polygon fill=\"none\" stroke=\"black\" points=\"324,-84.5 324,-120.5 536,-120.5 536,-84.5 324,-84.5\"/>\n<text text-anchor=\"middle\" x=\"350.5\" y=\"-98.8\" font-family=\"Times,serif\" font-size=\"14.00\">x2*w2</text>\n<polyline fill=\"none\" stroke=\"black\" points=\"377,-84.5 377,-120.5 \"/>\n<text text-anchor=\"middle\" x=\"415.5\" y=\"-98.8\" font-family=\"Times,serif\" font-size=\"14.00\">data0.0000</text>\n<polyline fill=\"none\" stroke=\"black\" points=\"454,-84.5 454,-120.5 \"/>\n<text text-anchor=\"middle\" x=\"495\" y=\"-98.8\" font-family=\"Times,serif\" font-size=\"14.00\">grad 0.5000</text>\n</g>\n<!-- 138124126877536&#45;&gt;138124126877728+ -->\n<g id=\"edge21\" class=\"edge\">\n<title>138124126877536&#45;&gt;138124126877728+</title>\n<path fill=\"none\" stroke=\"black\" d=\"M536.11,-119.29C546.23,-120.91 555.92,-122.46 564.57,-123.84\"/>\n<polygon fill=\"black\" stroke=\"black\" points=\"564.13,-127.31 574.56,-125.43 565.23,-120.4 564.13,-127.31\"/>\n</g>\n<!-- 138124126877536*&#45;&gt;138124126877536 -->\n<g id=\"edge8\" class=\"edge\">\n<title>138124126877536*&#45;&gt;138124126877536</title>\n<path fill=\"none\" stroke=\"black\" d=\"M286.04,-102.5C294.02,-102.5 303.37,-102.5 313.41,-102.5\"/>\n<polygon fill=\"black\" stroke=\"black\" points=\"313.64,-106 323.64,-102.5 313.64,-99 313.64,-106\"/>\n</g>\n<!-- 138124126869904 -->\n<g id=\"node25\" class=\"node\">\n<title>138124126869904</title>\n<polygon fill=\"none\" stroke=\"black\" points=\"2712,-54.5 2712,-90.5 2894,-90.5 2894,-54.5 2712,-54.5\"/>\n<text text-anchor=\"middle\" x=\"2723.5\" y=\"-68.8\" font-family=\"Times,serif\" font-size=\"14.00\">o</text>\n<polyline fill=\"none\" stroke=\"black\" points=\"2735,-54.5 2735,-90.5 \"/>\n<text text-anchor=\"middle\" x=\"2773.5\" y=\"-68.8\" font-family=\"Times,serif\" font-size=\"14.00\">data0.7071</text>\n<polyline fill=\"none\" stroke=\"black\" points=\"2812,-54.5 2812,-90.5 \"/>\n<text text-anchor=\"middle\" x=\"2853\" y=\"-68.8\" font-family=\"Times,serif\" font-size=\"14.00\">grad 1.0000</text>\n</g>\n<!-- 138124126869904*&#45;&gt;138124126869904 -->\n<g id=\"edge9\" class=\"edge\">\n<title>138124126869904*&#45;&gt;138124126869904</title>\n<path fill=\"none\" stroke=\"black\" d=\"M2676.13,-72.5C2683.67,-72.5 2692.39,-72.5 2701.64,-72.5\"/>\n<polygon fill=\"black\" stroke=\"black\" points=\"2701.87,-76 2711.87,-72.5 2701.87,-69 2701.87,-76\"/>\n</g>\n<!-- 138124126876144 -->\n<g id=\"node27\" class=\"node\">\n<title>138124126876144</title>\n<polygon fill=\"none\" stroke=\"black\" points=\"1666,-55.5 1666,-91.5 1845,-91.5 1845,-55.5 1666,-55.5\"/>\n<text text-anchor=\"middle\" x=\"1676\" y=\"-69.8\" font-family=\"Times,serif\" font-size=\"14.00\"> </text>\n<polyline fill=\"none\" stroke=\"black\" points=\"1686,-55.5 1686,-91.5 \"/>\n<text text-anchor=\"middle\" x=\"1724.5\" y=\"-69.8\" font-family=\"Times,serif\" font-size=\"14.00\">data5.8284</text>\n<polyline fill=\"none\" stroke=\"black\" points=\"1763,-55.5 1763,-91.5 \"/>\n<text text-anchor=\"middle\" x=\"1804\" y=\"-69.8\" font-family=\"Times,serif\" font-size=\"14.00\">grad 0.0429</text>\n</g>\n<!-- 138124126876144&#45;&gt;138124126872640+ -->\n<g id=\"edge22\" class=\"edge\">\n<title>138124126876144&#45;&gt;138124126872640+</title>\n<path fill=\"none\" stroke=\"black\" d=\"M1845.21,-57.21C1855.27,-55.36 1865.04,-53.57 1873.78,-51.97\"/>\n<polygon fill=\"black\" stroke=\"black\" points=\"1874.68,-55.36 1883.88,-50.11 1873.41,-48.48 1874.68,-55.36\"/>\n</g>\n<!-- 138124126876144&#45;&gt;138124126872400+ -->\n<g id=\"edge15\" class=\"edge\">\n<title>138124126876144&#45;&gt;138124126872400+</title>\n<path fill=\"none\" stroke=\"black\" d=\"M1845.21,-89.21C1855.18,-90.97 1864.86,-92.68 1873.53,-94.22\"/>\n<polygon fill=\"black\" stroke=\"black\" points=\"1873.12,-97.7 1883.58,-96 1874.34,-90.81 1873.12,-97.7\"/>\n</g>\n<!-- 138124126876144exp&#45;&gt;138124126876144 -->\n<g id=\"edge10\" class=\"edge\">\n<title>138124126876144exp&#45;&gt;138124126876144</title>\n<path fill=\"none\" stroke=\"black\" d=\"M1628.22,-73.5C1636.26,-73.5 1645.64,-73.5 1655.59,-73.5\"/>\n<polygon fill=\"black\" stroke=\"black\" points=\"1655.69,-77 1665.69,-73.5 1655.69,-70 1655.69,-77\"/>\n</g>\n</g>\n</svg>\n",
            "text/plain": [
              "<graphviz.graphs.Digraph at 0x7d9f87847c40>"
            ]
          },
          "metadata": {},
          "execution_count": 127
        }
      ]
    },
    {
      "cell_type": "markdown",
      "source": [
        "## Creating the same code using torch"
      ],
      "metadata": {
        "id": "QlriPyn0Lize"
      }
    },
    {
      "cell_type": "code",
      "source": [
        "import torch\n"
      ],
      "metadata": {
        "id": "11Rthq8EOpRq"
      },
      "execution_count": null,
      "outputs": []
    },
    {
      "cell_type": "code",
      "source": [
        "x1=torch.Tensor([2.0]).double();                  x1.requires_grad=True\n",
        "x2=torch.Tensor([0.0]).double();                  x2.requires_grad=True\n",
        "w1=torch.Tensor([-3.0]).double();                 w1.requires_grad=True\n",
        "w2=torch.Tensor([1.0]).double();                  w2.requires_grad=True\n",
        "b=torch.Tensor([6.8813735870195432]).double();     b.requires_grad=True\n",
        "\n",
        "n=x1*w1+x2*w2+b\n",
        "o=torch.tanh(n)\n",
        "\n",
        "print(o.data.item())   #o.data.item==o.item\n",
        "o.backward()\n",
        "\n",
        "print('---')\n",
        "print('x2', x2.grad.item())\n",
        "print('w2', w2.grad.item())\n",
        "print('x1', x1.grad.item())\n",
        "print('w1', w1.grad.item())"
      ],
      "metadata": {
        "colab": {
          "base_uri": "https://localhost:8080/"
        },
        "id": "qxYTkeVROgpF",
        "outputId": "674388a0-2e6a-4023-8ec6-8dedff68e904"
      },
      "execution_count": null,
      "outputs": [
        {
          "output_type": "stream",
          "name": "stdout",
          "text": [
            "0.7071066904050358\n",
            "---\n",
            "x2 0.5000001283844369\n",
            "w2 0.0\n",
            "x1 -1.5000003851533106\n",
            "w1 1.0000002567688737\n"
          ]
        }
      ]
    },
    {
      "cell_type": "code",
      "source": [
        "import random\n",
        "class Neuron:\n",
        "\n",
        "  def __init__(self,nin):\n",
        "    self.w=[Value(random.uniform(-1,1)) for _ in range(nin)]\n",
        "    self.b=Value(random.uniform(-1,1))\n",
        "\n",
        "  def __call__(self,x):\n",
        "    # w*x+b\n",
        "    act=sum((wi*xi for wi, xi in zip(self.w,x)),self.b)\n",
        "    out=act.tanh()\n",
        "    return out\n",
        "\n",
        "  def parameters(self):\n",
        "    return self.w+[self.b]\n",
        "\n",
        "class Layer:\n",
        "\n",
        "  def __init__(self,nin,nout):\n",
        "    self.neurons=[Neuron(nin) for _ in range(nout)]\n",
        "\n",
        "  def __call__(self,x):\n",
        "    outs=[n(x) for n in self.neurons]\n",
        "    return outs[0] if len(outs)==1 else outs\n",
        "\n",
        "  def parameters(self):\n",
        "    params=[]\n",
        "    # for neuron in self.neurons:\n",
        "    #   ps=neuron.parameters()\n",
        "    #   params.extend(ps)\n",
        "    # return params\n",
        "    return [p for neuron in self.neurons for p in neuron.parameters()]\n",
        "\n",
        "\n",
        "class MLP:\n",
        "\n",
        "  def __init__(self,nin,nouts):\n",
        "    sz=[nin]+nouts\n",
        "    self.layers=[Layer(sz[i],sz[i+1]) for i in range(len(nouts))]\n",
        "\n",
        "  def __call__(self,x):\n",
        "      for layer in self.layers:\n",
        "        x=layer(x)\n",
        "      return x\n",
        "\n",
        "  def parameters(self):\n",
        "    return [p for layer in self.layers for p in layer.parameters() ]\n",
        "x=[2.0,3.0,-1.0]\n",
        "# n=MLP(3,[4,4,1])\n",
        "n=MLP(3,[4,4,1])\n",
        "n(x)\n",
        "\n",
        "\n"
      ],
      "metadata": {
        "colab": {
          "base_uri": "https://localhost:8080/"
        },
        "id": "gh_maXnYP9Ex",
        "outputId": "be17f44f-8adb-46f8-af4c-81dc6279710b"
      },
      "execution_count": null,
      "outputs": [
        {
          "output_type": "execute_result",
          "data": {
            "text/plain": [
              "Value(data=-0.7094452812895314)"
            ]
          },
          "metadata": {},
          "execution_count": 130
        }
      ]
    },
    {
      "cell_type": "code",
      "source": [
        "# draw_dot(n(x))"
      ],
      "metadata": {
        "id": "fNd6LHeian8M"
      },
      "execution_count": null,
      "outputs": []
    },
    {
      "cell_type": "code",
      "source": [
        "xs = [\n",
        "  [2.0, 3.0, -1.0],\n",
        "  [3.0, -1.0, 0.5],\n",
        "  [0.5, 1.0, 1.0],\n",
        "  [1.0, 1.0, -1.0],\n",
        "]\n",
        "ys = [1.0, -1.0, -1.0, 1.0] # desired targets\n",
        "ypred=[n(x) for x in xs]   #FWD PASS\n",
        "ypred"
      ],
      "metadata": {
        "colab": {
          "base_uri": "https://localhost:8080/"
        },
        "id": "YA_q0j__DTwa",
        "outputId": "ff166a93-f644-45da-e487-f1eb9eae00c7"
      },
      "execution_count": null,
      "outputs": [
        {
          "output_type": "execute_result",
          "data": {
            "text/plain": [
              "[Value(data=-0.7094452812895314),\n",
              " Value(data=-0.6904955029049601),\n",
              " Value(data=-0.6852175420201625),\n",
              " Value(data=-0.7073224687885971)]"
            ]
          },
          "metadata": {},
          "execution_count": 132
        }
      ]
    },
    {
      "cell_type": "code",
      "source": [
        "loss=sum([(yout - ygt)**2 for ygt,yout in zip(ys,ypred)])"
      ],
      "metadata": {
        "id": "Pfp1XE44GcrR"
      },
      "execution_count": null,
      "outputs": []
    },
    {
      "cell_type": "code",
      "source": [
        "loss  #LOSS"
      ],
      "metadata": {
        "colab": {
          "base_uri": "https://localhost:8080/"
        },
        "id": "RYl2a9w5G_t9",
        "outputId": "b79bea85-107d-4048-a139-4f2a28a52f69"
      },
      "execution_count": null,
      "outputs": [
        {
          "output_type": "execute_result",
          "data": {
            "text/plain": [
              "Value(data=6.032034211727316)"
            ]
          },
          "metadata": {},
          "execution_count": 134
        }
      ]
    },
    {
      "cell_type": "code",
      "source": [
        "loss.backward()  #BACKWARD PASS\n",
        "loss"
      ],
      "metadata": {
        "colab": {
          "base_uri": "https://localhost:8080/"
        },
        "id": "xrCzapARSRMe",
        "outputId": "7e1fa4fc-f610-4300-971f-9b7e2169d29b"
      },
      "execution_count": null,
      "outputs": [
        {
          "output_type": "execute_result",
          "data": {
            "text/plain": [
              "Value(data=6.032034211727316)"
            ]
          },
          "metadata": {},
          "execution_count": 135
        }
      ]
    },
    {
      "cell_type": "code",
      "source": [
        "n.layers[0].neurons[0].w[0].data"
      ],
      "metadata": {
        "colab": {
          "base_uri": "https://localhost:8080/"
        },
        "id": "EDV8iVotSTG7",
        "outputId": "a13d5cd6-ebd7-472d-e044-dca5f35b5f0d"
      },
      "execution_count": null,
      "outputs": [
        {
          "output_type": "execute_result",
          "data": {
            "text/plain": [
              "0.07550269191849357"
            ]
          },
          "metadata": {},
          "execution_count": 136
        }
      ]
    },
    {
      "cell_type": "code",
      "source": [
        "# draw_dot(loss)"
      ],
      "metadata": {
        "id": "LbJcO4XZSa1V"
      },
      "execution_count": null,
      "outputs": []
    },
    {
      "cell_type": "code",
      "source": [
        "#Gradients on input data are not useful as it would remain constant"
      ],
      "metadata": {
        "id": "y9Ehr98KSkLR"
      },
      "execution_count": null,
      "outputs": []
    },
    {
      "cell_type": "code",
      "source": [
        "# n.parameters()"
      ],
      "metadata": {
        "id": "NTOB5jcHUrQz"
      },
      "execution_count": null,
      "outputs": []
    },
    {
      "cell_type": "code",
      "source": [
        "n.layers[0].neurons[0].w[0].grad"
      ],
      "metadata": {
        "colab": {
          "base_uri": "https://localhost:8080/"
        },
        "id": "_OogXm56bGZ_",
        "outputId": "3dca4d84-ce74-42e1-f3c3-9050a7401d52"
      },
      "execution_count": null,
      "outputs": [
        {
          "output_type": "execute_result",
          "data": {
            "text/plain": [
              "-0.010745951266132259"
            ]
          },
          "metadata": {},
          "execution_count": 140
        }
      ]
    },
    {
      "cell_type": "code",
      "source": [
        "for p in n.parameters():\n",
        "  p.data+=-0.005*p.grad     #FULLGD"
      ],
      "metadata": {
        "id": "4bqJk4_XUs9N"
      },
      "execution_count": null,
      "outputs": []
    },
    {
      "cell_type": "code",
      "source": [
        "n.layers[0].neurons[0].w[0].data"
      ],
      "metadata": {
        "colab": {
          "base_uri": "https://localhost:8080/"
        },
        "id": "vI6oyJYRVuci",
        "outputId": "cd7632a0-b246-4411-961c-d9f5f6c7c949"
      },
      "execution_count": null,
      "outputs": [
        {
          "output_type": "execute_result",
          "data": {
            "text/plain": [
              "0.07555642167482424"
            ]
          },
          "metadata": {},
          "execution_count": 142
        }
      ]
    },
    {
      "cell_type": "code",
      "source": [
        "ypred=[n(x) for x in xs]  ##FWD\n",
        "loss=sum([(yout - ygt)**2 for ygt,yout in zip(ys,ypred)])  #LOss\n",
        "loss"
      ],
      "metadata": {
        "colab": {
          "base_uri": "https://localhost:8080/"
        },
        "id": "Y0nqkel8VvwV",
        "outputId": "dcae9324-d952-479b-8d05-01b2e7a36a33"
      },
      "execution_count": null,
      "outputs": [
        {
          "output_type": "execute_result",
          "data": {
            "text/plain": [
              "Value(data=5.765680960298591)"
            ]
          },
          "metadata": {},
          "execution_count": 143
        }
      ]
    },
    {
      "cell_type": "code",
      "source": [
        "for k in range(20):\n",
        "\n",
        "  # forward pass\n",
        "  ypred=[n(x) for x in xs]\n",
        "  loss=sum([(yout - ygt)**2 for ygt,yout in zip(ys,ypred)])\n",
        "\n",
        "  #backward pass\n",
        "  for p in n.parameters():\n",
        "    p.grad=0.0\n",
        "  loss.backward()\n",
        "\n",
        "  #update\n",
        "  for p in n.parameters():\n",
        "    p.data+=-0.05*p.grad\n",
        "  print(k,loss.data)"
      ],
      "metadata": {
        "colab": {
          "base_uri": "https://localhost:8080/"
        },
        "id": "5CBU5Ec3bWjZ",
        "outputId": "4cab0031-ecff-4f6d-fe3c-e21542d187e4"
      },
      "execution_count": null,
      "outputs": [
        {
          "output_type": "stream",
          "name": "stdout",
          "text": [
            "0 0.007542935248360458\n",
            "1 0.007442233336323406\n",
            "2 0.007344128218635157\n",
            "3 0.007248521611837989\n",
            "4 0.007155320105234366\n",
            "5 0.007064434863629558\n",
            "6 0.006975781351518559\n",
            "7 0.006889279076938014\n",
            "8 0.006804851353368979\n",
            "9 0.006722425078227137\n",
            "10 0.006641930526609719\n",
            "11 0.006563301159089705\n",
            "12 0.006486473442455598\n",
            "13 0.006411386682392817\n",
            "14 0.006337982867190159\n",
            "15 0.006266206521635186\n",
            "16 0.006196004570332527\n",
            "17 0.006127326209745702\n",
            "18 0.006060122788320442\n",
            "19 0.005994347694101331\n"
          ]
        }
      ]
    },
    {
      "cell_type": "code",
      "source": [],
      "metadata": {
        "id": "jCcYKM5KKN6E"
      },
      "execution_count": null,
      "outputs": []
    }
  ]
}